{
  "nbformat": 4,
  "nbformat_minor": 0,
  "metadata": {
    "colab": {
      "provenance": [],
      "include_colab_link": true
    },
    "kernelspec": {
      "name": "python3",
      "display_name": "Python 3"
    },
    "language_info": {
      "name": "python"
    },
    "gpuClass": "standard"
  },
  "cells": [
    {
      "cell_type": "markdown",
      "metadata": {
        "id": "view-in-github",
        "colab_type": "text"
      },
      "source": [
        "<a href=\"https://colab.research.google.com/github/j23-cs167/project-2-AlanJohn-1/blob/main/Project2.ipynb\" target=\"_parent\"><img src=\"https://colab.research.google.com/assets/colab-badge.svg\" alt=\"Open In Colab\"/></a>"
      ]
    },
    {
      "cell_type": "markdown",
      "source": [
        "# Project #2\n",
        "##Name:Alan Johnston\n",
        "\n",
        "\n",
        "Proposed Points (out of 25):"
      ],
      "metadata": {
        "id": "rIepkBIuT_Pl"
      }
    },
    {
      "cell_type": "markdown",
      "source": [
        "# 1. Problem\n",
        "State the problem you are trying to solve with this machine learning experiment. Include a description of the data, where you got the data, and what you're trying to predict.."
      ],
      "metadata": {
        "id": "HbwKLNhzP8YO"
      }
    },
    {
      "cell_type": "markdown",
      "source": [
        "I am using a comic characters dataset. I want to try and find the best predictor variable for whether or not a character is good or bad as well as whether or not more good charaters or bad characters have been created in the past 20 years."
      ],
      "metadata": {
        "id": "LwseoUsMmCz2"
      }
    },
    {
      "cell_type": "markdown",
      "source": [
        "# 2. Data Preparation\n",
        "Explain your data preparation. What did you have to do to get your data in shape for your experiments? Why are you certain that you data is clean and prepared for use in your algorithms?"
      ],
      "metadata": {
        "id": "qR_foVOeQVL7"
      }
    },
    {
      "cell_type": "markdown",
      "source": [
        "*your answer here*"
      ],
      "metadata": {
        "id": "aMDJDnW_mOWu"
      }
    },
    {
      "cell_type": "code",
      "source": [
        "# load and prepare your data here\n",
        "from google.colab import drive\n",
        "import pandas as pd\n",
        "from sklearn.neighbors import KNeighborsClassifier\n",
        "from sklearn.model_selection import train_test_split\n",
        "from sklearn.feature_selection import SelectKBest\n",
        "from sklearn.metrics import accuracy_score\n",
        "import math\n",
        "\n",
        "\n",
        "\n",
        "\n",
        "drive.mount('/content/drive')\n",
        "\n",
        "\n",
        "\n",
        "dc_data = pd.read_csv('/content/drive/MyDrive/CS167/datasets/ComicSet/dc.csv')\n",
        "marvel_data = pd.read_csv('/content/drive/MyDrive/CS167/datasets/ComicSet/marvel-wikia-data.csv')\n",
        "\n",
        "\n",
        "#This is how I merged the two data files into one dataset\n",
        "superhero_data = pd.concat([dc_data,marvel_data])\n",
        "\n",
        "\n",
        "\n"
      ],
      "metadata": {
        "id": "9dUdBChRmKxR",
        "outputId": "a83a155c-0ce6-4455-bf7a-7ca8dfedd910",
        "colab": {
          "base_uri": "https://localhost:8080/"
        }
      },
      "execution_count": 5,
      "outputs": [
        {
          "output_type": "stream",
          "name": "stdout",
          "text": [
            "Drive already mounted at /content/drive; to attempt to forcibly remount, call drive.mount(\"/content/drive\", force_remount=True).\n"
          ]
        }
      ]
    },
    {
      "cell_type": "markdown",
      "source": [],
      "metadata": {
        "id": "TjtY7QBtVPYm"
      }
    },
    {
      "cell_type": "markdown",
      "source": [
        "# 3. Research\n",
        "\n",
        "Put your code and your experiments here."
      ],
      "metadata": {
        "id": "Hc7HMmNPR10W"
      }
    },
    {
      "cell_type": "code",
      "source": [
        "# code goes here... don't forget to include graphs. Professor Urness loves graphs.\n",
        "\n",
        "\n",
        "#Entropy on the data to try and see which variables"
      ],
      "metadata": {
        "id": "XfaACsEOR4U5"
      },
      "execution_count": null,
      "outputs": []
    },
    {
      "cell_type": "markdown",
      "source": [
        "#4. Analysis\n",
        "\n",
        "What did you discover? What insights/recommendations do you have? What did you find that was interesting? Which model was your best model, which models didn't work well? Why do you think this is? In general, I want a discussion of your experiment, the results, and what they mean."
      ],
      "metadata": {
        "id": "2Qu9bYPLmiv_"
      }
    },
    {
      "cell_type": "markdown",
      "source": [
        "*your answer here*"
      ],
      "metadata": {
        "id": "k17sKBZUmqIH"
      }
    },
    {
      "cell_type": "markdown",
      "source": [
        "# 5. Bumps in the Road\n",
        "What challenges did you encounter? How did you overcome these challenges?"
      ],
      "metadata": {
        "id": "TemAuKxlm6dQ"
      }
    },
    {
      "cell_type": "markdown",
      "source": [
        "*your answer here*"
      ],
      "metadata": {
        "id": "zXEVEG9FnHgQ"
      }
    }
  ]
}